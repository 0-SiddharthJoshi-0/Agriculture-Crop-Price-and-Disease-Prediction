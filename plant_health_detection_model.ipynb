{
 "cells": [
  {
   "cell_type": "markdown",
   "id": "73485a70-8ab8-4aae-af07-2c1026a0be3f",
   "metadata": {},
   "source": [
    "## CNN"
   ]
  },
  {
   "cell_type": "code",
   "execution_count": 2,
   "id": "f127f4e6-3d6c-4a62-bcbc-4be518f89d37",
   "metadata": {},
   "outputs": [
    {
     "name": "stderr",
     "output_type": "stream",
     "text": [
      "/opt/anaconda3/lib/python3.12/site-packages/keras/src/layers/convolutional/base_conv.py:107: UserWarning: Do not pass an `input_shape`/`input_dim` argument to a layer. When using Sequential models, prefer using an `Input(shape)` object as the first layer in the model instead.\n",
      "  super().__init__(activity_regularizer=activity_regularizer, **kwargs)\n"
     ]
    },
    {
     "name": "stdout",
     "output_type": "stream",
     "text": [
      "Epoch 1/10\n",
      "\u001b[1m190/190\u001b[0m \u001b[32m━━━━━━━━━━━━━━━━━━━━\u001b[0m\u001b[37m\u001b[0m \u001b[1m158s\u001b[0m 821ms/step - accuracy: 0.5236 - loss: 1.4456 - val_accuracy: 0.8555 - val_loss: 0.4237\n",
      "Epoch 2/10\n",
      "\u001b[1m190/190\u001b[0m \u001b[32m━━━━━━━━━━━━━━━━━━━━\u001b[0m\u001b[37m\u001b[0m \u001b[1m216s\u001b[0m 1s/step - accuracy: 0.8573 - loss: 0.3789 - val_accuracy: 0.8252 - val_loss: 0.4193\n",
      "Epoch 3/10\n",
      "\u001b[1m190/190\u001b[0m \u001b[32m━━━━━━━━━━━━━━━━━━━━\u001b[0m\u001b[37m\u001b[0m \u001b[1m188s\u001b[0m 988ms/step - accuracy: 0.9042 - loss: 0.2553 - val_accuracy: 0.8569 - val_loss: 0.3567\n",
      "Epoch 4/10\n",
      "\u001b[1m190/190\u001b[0m \u001b[32m━━━━━━━━━━━━━━━━━━━━\u001b[0m\u001b[37m\u001b[0m \u001b[1m187s\u001b[0m 983ms/step - accuracy: 0.9194 - loss: 0.2191 - val_accuracy: 0.8885 - val_loss: 0.3050\n",
      "Epoch 5/10\n",
      "\u001b[1m190/190\u001b[0m \u001b[32m━━━━━━━━━━━━━━━━━━━━\u001b[0m\u001b[37m\u001b[0m \u001b[1m188s\u001b[0m 990ms/step - accuracy: 0.9498 - loss: 0.1346 - val_accuracy: 0.8536 - val_loss: 0.4731\n",
      "Epoch 6/10\n",
      "\u001b[1m190/190\u001b[0m \u001b[32m━━━━━━━━━━━━━━━━━━━━\u001b[0m\u001b[37m\u001b[0m \u001b[1m190s\u001b[0m 996ms/step - accuracy: 0.9677 - loss: 0.0786 - val_accuracy: 0.8905 - val_loss: 0.3570\n",
      "Epoch 7/10\n",
      "\u001b[1m190/190\u001b[0m \u001b[32m━━━━━━━━━━━━━━━━━━━━\u001b[0m\u001b[37m\u001b[0m \u001b[1m192s\u001b[0m 1s/step - accuracy: 0.9726 - loss: 0.0832 - val_accuracy: 0.8945 - val_loss: 0.3593\n",
      "Epoch 8/10\n",
      "\u001b[1m190/190\u001b[0m \u001b[32m━━━━━━━━━━━━━━━━━━━━\u001b[0m\u001b[37m\u001b[0m \u001b[1m185s\u001b[0m 972ms/step - accuracy: 0.9821 - loss: 0.0506 - val_accuracy: 0.8865 - val_loss: 0.4628\n",
      "Epoch 9/10\n",
      "\u001b[1m190/190\u001b[0m \u001b[32m━━━━━━━━━━━━━━━━━━━━\u001b[0m\u001b[37m\u001b[0m \u001b[1m181s\u001b[0m 950ms/step - accuracy: 0.9908 - loss: 0.0358 - val_accuracy: 0.8958 - val_loss: 0.4223\n",
      "Epoch 10/10\n",
      "\u001b[1m190/190\u001b[0m \u001b[32m━━━━━━━━━━━━━━━━━━━━\u001b[0m\u001b[37m\u001b[0m \u001b[1m197s\u001b[0m 1s/step - accuracy: 0.9959 - loss: 0.0112 - val_accuracy: 0.9103 - val_loss: 0.3934\n"
     ]
    }
   ],
   "source": [
    "import os\n",
    "import cv2\n",
    "import numpy as np\n",
    "from sklearn.model_selection import train_test_split\n",
    "from tensorflow.keras import layers, models\n",
    "from tensorflow.keras.utils import to_categorical\n",
    "\n",
    "def load_images_from_directory(directory, label):\n",
    "    images = []\n",
    "    labels = []\n",
    "    for filename in os.listdir(directory):\n",
    "        if filename.endswith((\".jpg\", \".png\", \".JPG\", \".PNG\")):\n",
    "            img = cv2.imread(os.path.join(directory, filename))\n",
    "            if img is not None:\n",
    "                img = cv2.resize(img, (256, 256))  # Resize image\n",
    "                images.append(img)\n",
    "                labels.append(label)\n",
    "    return np.array(images), np.array(labels)\n",
    "\n",
    "# Base directory where all datasets are located\n",
    "base_dir = 'Dataset'  # Assuming 'Dataset' contains all the subdirectories\n",
    "\n",
    "# Load healthy and unhealthy images for each crop from the 'Dataset' directory\n",
    "rice_healthy_images, rice_healthy_labels = load_images_from_directory(os.path.join(base_dir, 'Rice_healthy'), 0)\n",
    "rice_unhealthy_images, rice_unhealthy_labels = load_images_from_directory(os.path.join(base_dir, 'Rice_unhealthy'), 1)\n",
    "\n",
    "potato_healthy_images, potato_healthy_labels = load_images_from_directory(os.path.join(base_dir, 'Potato_healthy'), 2)\n",
    "potato_unhealthy_images, potato_unhealthy_labels = load_images_from_directory(os.path.join(base_dir, 'Potato_unhealthy'), 3)\n",
    "\n",
    "wheat_healthy_images, wheat_healthy_labels = load_images_from_directory(os.path.join(base_dir, 'Wheat_healthy'), 4)\n",
    "wheat_unhealthy_images, wheat_unhealthy_labels = load_images_from_directory(os.path.join(base_dir, 'Wheat_unhealthy'), 5)\n",
    "\n",
    "tomato_healthy_images, tomato_healthy_labels = load_images_from_directory(os.path.join(base_dir, 'Tomato_healthy'), 6)\n",
    "tomato_unhealthy_images, tomato_unhealthy_labels = load_images_from_directory(os.path.join(base_dir, 'Tomato_unhealthy'), 7)\n",
    "\n",
    "# Ensure all image arrays are non-empty before concatenation\n",
    "image_arrays = [rice_healthy_images, rice_unhealthy_images, potato_healthy_images, potato_unhealthy_images,\n",
    "                wheat_healthy_images, wheat_unhealthy_images, tomato_healthy_images, tomato_unhealthy_images]\n",
    "\n",
    "label_arrays = [rice_healthy_labels, rice_unhealthy_labels, potato_healthy_labels, potato_unhealthy_labels,\n",
    "                wheat_healthy_labels, wheat_unhealthy_labels, tomato_healthy_labels, tomato_unhealthy_labels]\n",
    "\n",
    "# Remove any empty arrays (in case some directories don't contain valid images)\n",
    "image_arrays = [arr for arr in image_arrays if len(arr) > 0]\n",
    "label_arrays = [arr for arr in label_arrays if len(arr) > 0]\n",
    "\n",
    "# Concatenate the loaded images and labels\n",
    "X = np.concatenate(image_arrays)\n",
    "y = np.concatenate(label_arrays)\n",
    "\n",
    "# Split the dataset into training and validation sets\n",
    "X_train, X_val, y_train, y_val = train_test_split(X, y, test_size=0.2, random_state=42)\n",
    "\n",
    "# Normalize the images\n",
    "X_train = X_train.astype('float32') / 255.0\n",
    "X_val = X_val.astype('float32') / 255.0\n",
    "\n",
    "# One-hot encode the labels\n",
    "y_train = to_categorical(y_train, num_classes=8)\n",
    "y_val = to_categorical(y_val, num_classes=8)\n",
    "\n",
    "# Build CNN model\n",
    "model = models.Sequential([\n",
    "    layers.Conv2D(32, (3, 3), activation='relu', input_shape=(256, 256, 3)),\n",
    "    layers.MaxPooling2D(pool_size=(2, 2)),\n",
    "    layers.Conv2D(64, (3, 3), activation='relu'),\n",
    "    layers.MaxPooling2D(pool_size=(2, 2)),\n",
    "    layers.Conv2D(128, (3, 3), activation='relu'),\n",
    "    layers.MaxPooling2D(pool_size=(2, 2)),\n",
    "    layers.Flatten(),\n",
    "    layers.Dense(128, activation='relu'),\n",
    "    layers.Dense(8, activation='softmax')  # Output layer for 8 classes\n",
    "])\n",
    "\n",
    "# Compile model\n",
    "model.compile(optimizer='adam', loss='categorical_crossentropy', metrics=['accuracy'])\n",
    "\n",
    "# Train model\n",
    "history = model.fit(\n",
    "    X_train, \n",
    "    y_train, \n",
    "    validation_data=(X_val, y_val),\n",
    "    epochs=10,\n",
    "    batch_size=32\n",
    ")\n",
    "\n",
    "\n",
    "\n"
   ]
  },
  {
   "cell_type": "code",
   "execution_count": 5,
   "id": "d52400ef-4cb6-4876-9650-d3e6e9f97836",
   "metadata": {},
   "outputs": [
    {
     "name": "stdout",
     "output_type": "stream",
     "text": [
      "\u001b[1m48/48\u001b[0m \u001b[32m━━━━━━━━━━━━━━━━━━━━\u001b[0m\u001b[37m\u001b[0m \u001b[1m8s\u001b[0m 170ms/step - accuracy: 0.9001 - loss: 0.4350\n",
      "Validation accuracy: 0.91\n"
     ]
    }
   ],
   "source": [
    "# Evaluate model\n",
    "loss, accuracy = model.evaluate(X_val, y_val)\n",
    "print(f'Validation accuracy: {accuracy:.2f}')\n",
    "\n",
    "\n"
   ]
  },
  {
   "cell_type": "markdown",
   "id": "961b2796-670b-4ba2-ac51-88e7d9bdcce1",
   "metadata": {},
   "source": [
    "## ResNet50"
   ]
  },
  {
   "cell_type": "code",
   "execution_count": 4,
   "id": "6017c0e1-f3d9-4417-b019-6ab5ef81cf7b",
   "metadata": {},
   "outputs": [
    {
     "name": "stdout",
     "output_type": "stream",
     "text": [
      "Epoch 1/10\n",
      "\u001b[1m183/183\u001b[0m \u001b[32m━━━━━━━━━━━━━━━━━━━━\u001b[0m\u001b[37m\u001b[0m \u001b[1m267s\u001b[0m 1s/step - accuracy: 0.4691 - loss: 1.5349 - val_accuracy: 0.4352 - val_loss: 1.9373 - learning_rate: 0.0010\n",
      "Epoch 2/10\n",
      "\u001b[1m183/183\u001b[0m \u001b[32m━━━━━━━━━━━━━━━━━━━━\u001b[0m\u001b[37m\u001b[0m \u001b[1m312s\u001b[0m 2s/step - accuracy: 0.6663 - loss: 1.0103 - val_accuracy: 0.5236 - val_loss: 1.1034 - learning_rate: 0.0010\n",
      "Epoch 3/10\n",
      "\u001b[1m183/183\u001b[0m \u001b[32m━━━━━━━━━━━━━━━━━━━━\u001b[0m\u001b[37m\u001b[0m \u001b[1m1961s\u001b[0m 11s/step - accuracy: 0.7038 - loss: 0.9198 - val_accuracy: 0.3941 - val_loss: 1.8846 - learning_rate: 0.0010\n",
      "Epoch 4/10\n",
      "\u001b[1m183/183\u001b[0m \u001b[32m━━━━━━━━━━━━━━━━━━━━\u001b[0m\u001b[37m\u001b[0m \u001b[1m12880s\u001b[0m 71s/step - accuracy: 0.7315 - loss: 0.8645 - val_accuracy: 0.3557 - val_loss: 2.2393 - learning_rate: 0.0010\n",
      "Epoch 5/10\n",
      "\u001b[1m183/183\u001b[0m \u001b[32m━━━━━━━━━━━━━━━━━━━━\u001b[0m\u001b[37m\u001b[0m \u001b[1m6998s\u001b[0m 38s/step - accuracy: 0.7458 - loss: 0.7699 - val_accuracy: 0.3448 - val_loss: 2.0001 - learning_rate: 0.0010\n",
      "Epoch 6/10\n",
      "\u001b[1m183/183\u001b[0m \u001b[32m━━━━━━━━━━━━━━━━━━━━\u001b[0m\u001b[37m\u001b[0m \u001b[1m267s\u001b[0m 1s/step - accuracy: 0.7891 - loss: 0.6663 - val_accuracy: 0.6621 - val_loss: 0.8220 - learning_rate: 5.0000e-04\n",
      "Epoch 7/10\n",
      "\u001b[1m183/183\u001b[0m \u001b[32m━━━━━━━━━━━━━━━━━━━━\u001b[0m\u001b[37m\u001b[0m \u001b[1m309s\u001b[0m 2s/step - accuracy: 0.7835 - loss: 0.6556 - val_accuracy: 0.6251 - val_loss: 0.9854 - learning_rate: 5.0000e-04\n",
      "Epoch 8/10\n",
      "\u001b[1m183/183\u001b[0m \u001b[32m━━━━━━━━━━━━━━━━━━━━\u001b[0m\u001b[37m\u001b[0m \u001b[1m313s\u001b[0m 2s/step - accuracy: 0.7996 - loss: 0.6258 - val_accuracy: 0.7108 - val_loss: 0.8417 - learning_rate: 5.0000e-04\n",
      "Epoch 9/10\n",
      "\u001b[1m183/183\u001b[0m \u001b[32m━━━━━━━━━━━━━━━━━━━━\u001b[0m\u001b[37m\u001b[0m \u001b[1m320s\u001b[0m 2s/step - accuracy: 0.8045 - loss: 0.6110 - val_accuracy: 0.6635 - val_loss: 0.8883 - learning_rate: 5.0000e-04\n",
      "Epoch 10/10\n",
      "\u001b[1m183/183\u001b[0m \u001b[32m━━━━━━━━━━━━━━━━━━━━\u001b[0m\u001b[37m\u001b[0m \u001b[1m1291s\u001b[0m 7s/step - accuracy: 0.8149 - loss: 0.5978 - val_accuracy: 0.5216 - val_loss: 2.1590 - learning_rate: 5.0000e-04\n",
      "\u001b[1m46/46\u001b[0m \u001b[32m━━━━━━━━━━━━━━━━━━━━\u001b[0m\u001b[37m\u001b[0m \u001b[1m1944s\u001b[0m 43s/step - accuracy: 0.7017 - loss: 0.8377\n",
      "Validation accuracy: 0.71\n"
     ]
    },
    {
     "name": "stderr",
     "output_type": "stream",
     "text": [
      "/var/folders/ms/01004vks0k52h8c4djzfdyk80000gn/T/ipykernel_36948/1178361882.py:131: UserWarning: FigureCanvasAgg is non-interactive, and thus cannot be shown\n",
      "  plt.show()\n"
     ]
    },
    {
     "name": "stdout",
     "output_type": "stream",
     "text": [
      "\u001b[1m46/46\u001b[0m \u001b[32m━━━━━━━━━━━━━━━━━━━━\u001b[0m\u001b[37m\u001b[0m \u001b[1m2240s\u001b[0m 50s/step\n"
     ]
    },
    {
     "name": "stderr",
     "output_type": "stream",
     "text": [
      "/var/folders/ms/01004vks0k52h8c4djzfdyk80000gn/T/ipykernel_36948/1178361882.py:146: UserWarning: FigureCanvasAgg is non-interactive, and thus cannot be shown\n",
      "  plt.show()\n",
      "WARNING:absl:You are saving your model as an HDF5 file via `model.save()` or `keras.saving.save_model(model)`. This file format is considered legacy. We recommend using instead the native Keras format, e.g. `model.save('my_model.keras')` or `keras.saving.save_model(model, 'my_model.keras')`. \n"
     ]
    },
    {
     "name": "stdout",
     "output_type": "stream",
     "text": [
      "                  precision    recall  f1-score   support\n",
      "\n",
      "    Rice_healthy       0.58      0.80      0.67       100\n",
      "  Rice_unhealthy       1.00      0.01      0.02       101\n",
      "  Potato_healthy       0.90      0.57      0.70       174\n",
      "Potato_unhealthy       1.00      0.16      0.27       161\n",
      "   Wheat_healthy       0.62      0.77      0.69       121\n",
      " Wheat_unhealthy       0.70      0.77      0.74        92\n",
      "  Tomato_healthy       0.88      0.95      0.91       318\n",
      "Tomato_unhealthy       0.62      0.93      0.74       392\n",
      "\n",
      "        accuracy                           0.71      1459\n",
      "       macro avg       0.79      0.62      0.59      1459\n",
      "    weighted avg       0.78      0.71      0.66      1459\n",
      "\n"
     ]
    }
   ],
   "source": [
    "import os\n",
    "import cv2\n",
    "import numpy as np\n",
    "import streamlit as st\n",
    "from sklearn.model_selection import train_test_split\n",
    "from sklearn.utils import class_weight\n",
    "from tensorflow.keras.applications import ResNet50\n",
    "from tensorflow.keras.layers import Dense, GlobalAveragePooling2D, Dropout, BatchNormalization\n",
    "from tensorflow.keras.models import Model, load_model\n",
    "from tensorflow.keras.utils import to_categorical\n",
    "from tensorflow.keras.callbacks import ReduceLROnPlateau, EarlyStopping\n",
    "import matplotlib.pyplot as plt\n",
    "import seaborn as sns\n",
    "from sklearn.metrics import confusion_matrix, classification_report\n",
    "\n",
    "def load_images_from_directory(directory, label):\n",
    "    images = []\n",
    "    labels = []\n",
    "    for filename in os.listdir(directory):\n",
    "        if filename.lower().endswith((\".jpg\", \".png\", \".jpeg\")):\n",
    "            img = cv2.imread(os.path.join(directory, filename))\n",
    "            if img is not None:\n",
    "                img = cv2.resize(img, (256, 256))  # Resize image\n",
    "                images.append(img)\n",
    "                labels.append(label)\n",
    "    return np.array(images), np.array(labels)\n",
    "\n",
    "# Base directory where all datasets are located\n",
    "base_dir = 'Dataset'  # Update this path accordingly\n",
    "\n",
    "# Define labels for multi-class classification\n",
    "label_mapping = {\n",
    "    'Rice_healthy': 0,\n",
    "    'Rice_unhealthy': 1,\n",
    "    'Potato_healthy': 2,\n",
    "    'Potato_unhealthy': 3,\n",
    "    'Wheat_healthy': 4,\n",
    "    'Wheat_unhealthy': 5,\n",
    "    'Tomato_healthy': 6,\n",
    "    'Tomato_unhealthy': 7\n",
    "}\n",
    "\n",
    "# Load images and labels\n",
    "image_arrays = []\n",
    "label_arrays = []\n",
    "for folder, label in label_mapping.items():\n",
    "    images, labels = load_images_from_directory(os.path.join(base_dir, folder), label)\n",
    "    if len(images) > 0:\n",
    "        image_arrays.append(images)\n",
    "        label_arrays.append(labels)\n",
    "\n",
    "# Concatenate all images and labels\n",
    "X = np.concatenate(image_arrays)\n",
    "y = np.concatenate(label_arrays)\n",
    "\n",
    "# Split the dataset into training and validation sets\n",
    "X_train, X_val, y_train, y_val = train_test_split(X, y, test_size=0.2, stratify=y, random_state=42)\n",
    "\n",
    "# Normalize the images\n",
    "X_train = X_train.astype('float32') / 255.0\n",
    "X_val = X_val.astype('float32') / 255.0\n",
    "\n",
    "# One-hot encode the labels\n",
    "y_train = to_categorical(y_train, num_classes=8)\n",
    "y_val = to_categorical(y_val, num_classes=8)\n",
    "\n",
    "# Compute class weights to handle class imbalance\n",
    "y_integers = np.argmax(y_train, axis=1)\n",
    "class_weights = class_weight.compute_class_weight('balanced', classes=np.unique(y_integers), y=y_integers)\n",
    "class_weights = dict(enumerate(class_weights))\n",
    "\n",
    "# Build the model using transfer learning with ResNet50\n",
    "base_model = ResNet50(weights='imagenet', include_top=False, input_shape=(256, 256, 3))\n",
    "\n",
    "# Freeze the base model\n",
    "for layer in base_model.layers:\n",
    "    layer.trainable = False\n",
    "\n",
    "# Add custom layers\n",
    "x = base_model.output\n",
    "x = GlobalAveragePooling2D()(x)\n",
    "x = Dense(512, activation='relu')(x)\n",
    "x = BatchNormalization()(x)\n",
    "x = Dropout(0.5)(x)\n",
    "x = Dense(8, activation='softmax')(x)\n",
    "\n",
    "# Create the model\n",
    "model = Model(inputs=base_model.input, outputs=x)\n",
    "\n",
    "# Compile the model\n",
    "model.compile(optimizer='adam', loss='categorical_crossentropy', metrics=['accuracy'])\n",
    "\n",
    "# Define callbacks\n",
    "lr_reduction = ReduceLROnPlateau(monitor='val_accuracy', \n",
    "                                 patience=3, \n",
    "                                 factor=0.5, \n",
    "                                 min_lr=1e-6)\n",
    "early_stop = EarlyStopping(monitor='val_accuracy', \n",
    "                           patience=5, \n",
    "                           restore_best_weights=True)\n",
    "\n",
    "# Train the model\n",
    "history = model.fit(\n",
    "    X_train, \n",
    "    y_train, \n",
    "    validation_data=(X_val, y_val),\n",
    "    epochs=10,\n",
    "    batch_size=32,\n",
    "    class_weight=class_weights,\n",
    "    callbacks=[lr_reduction, early_stop]\n",
    ")\n",
    "\n",
    "# Evaluate the model\n",
    "loss, accuracy = model.evaluate(X_val, y_val)\n",
    "print(f'Validation accuracy: {accuracy:.2f}')\n",
    "\n",
    "# Plot training history\n",
    "plt.figure(figsize=(12, 4))\n",
    "plt.subplot(1, 2, 1)\n",
    "plt.plot(history.history['accuracy'], label='Training Accuracy')\n",
    "plt.plot(history.history['val_accuracy'], label='Validation Accuracy')\n",
    "plt.legend()\n",
    "plt.title('Accuracy Over Epochs')\n",
    "\n",
    "plt.subplot(1, 2, 2)\n",
    "plt.plot(history.history['loss'], label='Training Loss')\n",
    "plt.plot(history.history['val_loss'], label='Validation Loss')\n",
    "plt.legend()\n",
    "plt.title('Loss Over Epochs')\n",
    "\n",
    "plt.show()\n",
    "\n",
    "# Generate confusion matrix and classification report\n",
    "y_pred = model.predict(X_val)\n",
    "y_pred_classes = np.argmax(y_pred, axis=1)\n",
    "y_true = np.argmax(y_val, axis=1)\n",
    "\n",
    "cm = confusion_matrix(y_true, y_pred_classes)\n",
    "plt.figure(figsize=(10,8))\n",
    "sns.heatmap(cm, annot=True, fmt='d', \n",
    "            xticklabels=label_mapping.keys(), \n",
    "            yticklabels=label_mapping.keys(), cmap='Blues')\n",
    "plt.ylabel('Actual')\n",
    "plt.xlabel('Predicted')\n",
    "plt.title('Confusion Matrix')\n",
    "plt.show()\n",
    "\n",
    "print(classification_report(y_true, y_pred_classes, target_names=label_mapping.keys()))\n",
    "\n",
    "# Save the trained model\n",
    "model.save('crop_health_model.h5')\n"
   ]
  },
  {
   "cell_type": "markdown",
   "id": "4cfa791b-6f36-4e86-9576-1f69576ddd1a",
   "metadata": {},
   "source": [
    "## MobileNetV2"
   ]
  },
  {
   "cell_type": "code",
   "execution_count": 6,
   "id": "68a8f32d-70e4-45bf-a41a-728a25950b4d",
   "metadata": {},
   "outputs": [
    {
     "name": "stderr",
     "output_type": "stream",
     "text": [
      "/var/folders/ms/01004vks0k52h8c4djzfdyk80000gn/T/ipykernel_36948/1446980196.py:5: UserWarning: `input_shape` is undefined or non-square, or `rows` is not in [96, 128, 160, 192, 224]. Weights for input shape (224, 224) will be loaded as the default.\n",
      "  base_model = MobileNetV2(weights='imagenet', include_top=False, input_shape=(256, 256, 3))\n"
     ]
    },
    {
     "name": "stdout",
     "output_type": "stream",
     "text": [
      "Epoch 1/10\n",
      "\u001b[1m183/183\u001b[0m \u001b[32m━━━━━━━━━━━━━━━━━━━━\u001b[0m\u001b[37m\u001b[0m \u001b[1m88s\u001b[0m 450ms/step - accuracy: 0.7258 - loss: 0.7593 - val_accuracy: 0.9157 - val_loss: 0.2139\n",
      "Epoch 2/10\n",
      "\u001b[1m183/183\u001b[0m \u001b[32m━━━━━━━━━━━━━━━━━━━━\u001b[0m\u001b[37m\u001b[0m \u001b[1m68s\u001b[0m 371ms/step - accuracy: 0.9018 - loss: 0.2231 - val_accuracy: 0.9260 - val_loss: 0.1853\n",
      "Epoch 3/10\n",
      "\u001b[1m183/183\u001b[0m \u001b[32m━━━━━━━━━━━━━━━━━━━━\u001b[0m\u001b[37m\u001b[0m \u001b[1m68s\u001b[0m 369ms/step - accuracy: 0.9237 - loss: 0.1854 - val_accuracy: 0.9294 - val_loss: 0.1734\n",
      "Epoch 4/10\n",
      "\u001b[1m183/183\u001b[0m \u001b[32m━━━━━━━━━━━━━━━━━━━━\u001b[0m\u001b[37m\u001b[0m \u001b[1m67s\u001b[0m 367ms/step - accuracy: 0.9339 - loss: 0.1593 - val_accuracy: 0.9315 - val_loss: 0.1608\n",
      "Epoch 5/10\n",
      "\u001b[1m183/183\u001b[0m \u001b[32m━━━━━━━━━━━━━━━━━━━━\u001b[0m\u001b[37m\u001b[0m \u001b[1m70s\u001b[0m 382ms/step - accuracy: 0.9477 - loss: 0.1284 - val_accuracy: 0.9328 - val_loss: 0.1758\n",
      "Epoch 6/10\n",
      "\u001b[1m183/183\u001b[0m \u001b[32m━━━━━━━━━━━━━━━━━━━━\u001b[0m\u001b[37m\u001b[0m \u001b[1m70s\u001b[0m 384ms/step - accuracy: 0.9574 - loss: 0.1064 - val_accuracy: 0.9390 - val_loss: 0.1566\n",
      "Epoch 7/10\n",
      "\u001b[1m183/183\u001b[0m \u001b[32m━━━━━━━━━━━━━━━━━━━━\u001b[0m\u001b[37m\u001b[0m \u001b[1m74s\u001b[0m 404ms/step - accuracy: 0.9628 - loss: 0.1016 - val_accuracy: 0.9315 - val_loss: 0.1657\n",
      "Epoch 8/10\n",
      "\u001b[1m183/183\u001b[0m \u001b[32m━━━━━━━━━━━━━━━━━━━━\u001b[0m\u001b[37m\u001b[0m \u001b[1m77s\u001b[0m 422ms/step - accuracy: 0.9608 - loss: 0.0948 - val_accuracy: 0.9301 - val_loss: 0.1896\n",
      "Epoch 9/10\n",
      "\u001b[1m183/183\u001b[0m \u001b[32m━━━━━━━━━━━━━━━━━━━━\u001b[0m\u001b[37m\u001b[0m \u001b[1m79s\u001b[0m 430ms/step - accuracy: 0.9574 - loss: 0.0966 - val_accuracy: 0.9431 - val_loss: 0.1440\n",
      "Epoch 10/10\n",
      "\u001b[1m183/183\u001b[0m \u001b[32m━━━━━━━━━━━━━━━━━━━━\u001b[0m\u001b[37m\u001b[0m \u001b[1m79s\u001b[0m 429ms/step - accuracy: 0.9684 - loss: 0.0808 - val_accuracy: 0.9383 - val_loss: 0.1681\n"
     ]
    },
    {
     "data": {
      "text/plain": [
       "<keras.src.callbacks.history.History at 0x3117015b0>"
      ]
     },
     "execution_count": 6,
     "metadata": {},
     "output_type": "execute_result"
    }
   ],
   "source": [
    "from tensorflow.keras.applications import MobileNetV2\n",
    "from tensorflow.keras import layers, models\n",
    "\n",
    "# Load a pre-trained MobileNetV2 model\n",
    "base_model = MobileNetV2(weights='imagenet', include_top=False, input_shape=(256, 256, 3))\n",
    "\n",
    "# Freeze the base model (no training on the pre-trained layers)\n",
    "base_model.trainable = False\n",
    "\n",
    "# Add new layers on top of the pre-trained model\n",
    "model = models.Sequential([\n",
    "    base_model,\n",
    "    layers.GlobalAveragePooling2D(),\n",
    "    layers.Dense(256, activation='relu'),\n",
    "    layers.Dropout(0.5),\n",
    "    layers.Dense(8, activation='softmax')  # Assuming 8 classes (4 crops, each with healthy/unhealthy)\n",
    "])\n",
    "\n",
    "# Compile the model\n",
    "model.compile(optimizer='adam', loss='categorical_crossentropy', metrics=['accuracy'])\n",
    "\n",
    "# Train the model\n",
    "model.fit(X_train, y_train, validation_data=(X_val, y_val), epochs=10)\n"
   ]
  },
  {
   "cell_type": "code",
   "execution_count": 8,
   "id": "ae92c3fd-703e-4c4e-a755-e72f5d468950",
   "metadata": {},
   "outputs": [
    {
     "name": "stdout",
     "output_type": "stream",
     "text": [
      "\u001b[1m46/46\u001b[0m \u001b[32m━━━━━━━━━━━━━━━━━━━━\u001b[0m\u001b[37m\u001b[0m \u001b[1m13s\u001b[0m 273ms/step - accuracy: 0.9365 - loss: 0.1753\n",
      "Validation accuracy: 0.94\n"
     ]
    }
   ],
   "source": [
    "# Evaluate the model\n",
    "loss, accuracy = model.evaluate(X_val, y_val)\n",
    "print(f'Validation accuracy: {accuracy:.2f}')\n"
   ]
  },
  {
   "cell_type": "code",
   "execution_count": 10,
   "id": "23f6a2de-d2ca-4ca9-9f93-71bd350db758",
   "metadata": {},
   "outputs": [
    {
     "name": "stderr",
     "output_type": "stream",
     "text": [
      "WARNING:absl:You are saving your model as an HDF5 file via `model.save()` or `keras.saving.save_model(model)`. This file format is considered legacy. We recommend using instead the native Keras format, e.g. `model.save('my_model.keras')` or `keras.saving.save_model(model, 'my_model.keras')`. \n"
     ]
    }
   ],
   "source": [
    "model.save(\"f2.h5\")"
   ]
  },
  {
   "cell_type": "code",
   "execution_count": null,
   "id": "03671971-c228-4d27-a21d-e6fff9e8d82a",
   "metadata": {},
   "outputs": [],
   "source": []
  }
 ],
 "metadata": {
  "kernelspec": {
   "display_name": "Python 3 (ipykernel)",
   "language": "python",
   "name": "python3"
  },
  "language_info": {
   "codemirror_mode": {
    "name": "ipython",
    "version": 3
   },
   "file_extension": ".py",
   "mimetype": "text/x-python",
   "name": "python",
   "nbconvert_exporter": "python",
   "pygments_lexer": "ipython3",
   "version": "3.12.4"
  }
 },
 "nbformat": 4,
 "nbformat_minor": 5
}
